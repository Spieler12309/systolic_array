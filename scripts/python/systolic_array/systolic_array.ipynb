{
 "metadata": {
  "language_info": {
   "codemirror_mode": {
    "name": "ipython",
    "version": 3
   },
   "file_extension": ".py",
   "mimetype": "text/x-python",
   "name": "python",
   "nbconvert_exporter": "python",
   "pygments_lexer": "ipython3",
   "version": "3.9.5"
  },
  "orig_nbformat": 2,
  "kernelspec": {
   "name": "python3",
   "display_name": "Python 3.9.5 64-bit"
  },
  "metadata": {
   "interpreter": {
    "hash": "86eb6434b80d835c4d89806dbbf47874a9bd9388e626d54fbd28916269279b03"
   }
  },
  "interpreter": {
   "hash": "86eb6434b80d835c4d89806dbbf47874a9bd9388e626d54fbd28916269279b03"
  }
 },
 "nbformat": 4,
 "nbformat_minor": 2,
 "cells": [
  {
   "source": [
    "# Систолические массивы"
   ],
   "cell_type": "markdown",
   "metadata": {}
  },
  {
   "source": [
    "![title](simple_array.png)"
   ],
   "cell_type": "markdown",
   "metadata": {}
  },
  {
   "cell_type": "code",
   "execution_count": 8,
   "metadata": {},
   "outputs": [],
   "source": [
    "import numpy as np\n",
    "\n",
    "def calc_array(A, B, ARRAY_W, ARRAY_L):\n",
    "    res = np.zeros((ARRAY_W, ARRAY_W), dtype = np.int16)\n",
    "    add = np.zeros((ARRAY_W, ARRAY_W + 2), dtype = np.int16)\n",
    "    prop = np.zeros((ARRAY_W + 2, ARRAY_L), dtype = np.int16)\n",
    "    inp = np.zeros((ARRAY_W, ARRAY_W+2), dtype = np.int16)\n",
    "    FETCH_LENGTH = 2 * ARRAY_L + ARRAY_W + 1\n",
    "      \n",
    "    param_data = B\n",
    "    for k in range(FETCH_LENGTH):\n",
    "        u = min(ARRAY_W, k) - 1\n",
    "        for j in range(u + 1, -1, -1):\n",
    "            for i in range(j):\n",
    "                print(i, u - i + 1)\n",
    "                inp[i][u - i + 1] = inp[i][u - i]\n",
    "        \n",
    "        for i in range(ARRAY_W):\n",
    "            if ((k - ARRAY_L <= i) and (i <= min(k, ARRAY_W - 1)) and (k - i < ARRAY_L)):\n",
    "                inp[i][0] = A[i][k - i]\n",
    "            else:\n",
    "                inp[i][0] = 0\n",
    "        #print(inp)\n",
    "        print(\"-----\")\n",
    "\n",
    "        for i in range(ARRAY_W):\n",
    "            for j in range(ARRAY_L):                \n",
    "                if (i + j <= k):\n",
    "                    res[i][j] = add[i][j] + B[i][j] * prop[i][j]\n",
    "                    add[i][j + 1] = res[i][j]\n",
    "        \n",
    "    return res, add"
   ]
  },
  {
   "cell_type": "code",
   "execution_count": 9,
   "metadata": {},
   "outputs": [
    {
     "output_type": "stream",
     "name": "stdout",
     "text": [
      "-----\n0 1\n-----\n0 2\n1 1\n0 2\n-----\n"
     ]
    },
    {
     "output_type": "error",
     "ename": "IndexError",
     "evalue": "index 2 is out of bounds for axis 0 with size 2",
     "traceback": [
      "\u001b[1;31m---------------------------------------------------------------------------\u001b[0m",
      "\u001b[1;31mIndexError\u001b[0m                                Traceback (most recent call last)",
      "\u001b[1;32m<ipython-input-9-2db599e139ce>\u001b[0m in \u001b[0;36m<module>\u001b[1;34m\u001b[0m\n\u001b[0;32m     15\u001b[0m     [6, 7, 8, 9, 10]])\n\u001b[0;32m     16\u001b[0m \u001b[1;32mif\u001b[0m \u001b[1;33m(\u001b[0m\u001b[0mARRAY_A_L\u001b[0m \u001b[1;33m==\u001b[0m \u001b[0mARRAY_B_W\u001b[0m\u001b[1;33m)\u001b[0m\u001b[1;33m:\u001b[0m\u001b[1;33m\u001b[0m\u001b[1;33m\u001b[0m\u001b[0m\n\u001b[1;32m---> 17\u001b[1;33m     \u001b[0mC\u001b[0m\u001b[1;33m,\u001b[0m \u001b[0madd\u001b[0m \u001b[1;33m=\u001b[0m \u001b[0mcalc_array\u001b[0m\u001b[1;33m(\u001b[0m\u001b[0mA\u001b[0m\u001b[1;33m,\u001b[0m \u001b[0mB\u001b[0m\u001b[1;33m,\u001b[0m \u001b[0mARRAY_W\u001b[0m\u001b[1;33m,\u001b[0m \u001b[0mARRAY_L\u001b[0m\u001b[1;33m)\u001b[0m\u001b[1;33m\u001b[0m\u001b[1;33m\u001b[0m\u001b[0m\n\u001b[0m\u001b[0;32m     18\u001b[0m \u001b[1;31m#print(C)\u001b[0m\u001b[1;33m\u001b[0m\u001b[1;33m\u001b[0m\u001b[1;33m\u001b[0m\u001b[0m\n\u001b[0;32m     19\u001b[0m \u001b[1;31m#print(\"-----------\")\u001b[0m\u001b[1;33m\u001b[0m\u001b[1;33m\u001b[0m\u001b[1;33m\u001b[0m\u001b[0m\n",
      "\u001b[1;32m<ipython-input-8-e0dfc7da212a>\u001b[0m in \u001b[0;36mcalc_array\u001b[1;34m(A, B, ARRAY_W, ARRAY_L)\u001b[0m\n\u001b[0;32m     27\u001b[0m             \u001b[1;32mfor\u001b[0m \u001b[0mj\u001b[0m \u001b[1;32min\u001b[0m \u001b[0mrange\u001b[0m\u001b[1;33m(\u001b[0m\u001b[0mARRAY_L\u001b[0m\u001b[1;33m)\u001b[0m\u001b[1;33m:\u001b[0m\u001b[1;33m\u001b[0m\u001b[1;33m\u001b[0m\u001b[0m\n\u001b[0;32m     28\u001b[0m                 \u001b[1;32mif\u001b[0m \u001b[1;33m(\u001b[0m\u001b[0mi\u001b[0m \u001b[1;33m+\u001b[0m \u001b[0mj\u001b[0m \u001b[1;33m<=\u001b[0m \u001b[0mk\u001b[0m\u001b[1;33m)\u001b[0m\u001b[1;33m:\u001b[0m\u001b[1;33m\u001b[0m\u001b[1;33m\u001b[0m\u001b[0m\n\u001b[1;32m---> 29\u001b[1;33m                     \u001b[0mres\u001b[0m\u001b[1;33m[\u001b[0m\u001b[0mi\u001b[0m\u001b[1;33m]\u001b[0m\u001b[1;33m[\u001b[0m\u001b[0mj\u001b[0m\u001b[1;33m]\u001b[0m \u001b[1;33m=\u001b[0m \u001b[0madd\u001b[0m\u001b[1;33m[\u001b[0m\u001b[0mi\u001b[0m\u001b[1;33m]\u001b[0m\u001b[1;33m[\u001b[0m\u001b[0mj\u001b[0m\u001b[1;33m]\u001b[0m \u001b[1;33m+\u001b[0m \u001b[0mB\u001b[0m\u001b[1;33m[\u001b[0m\u001b[0mi\u001b[0m\u001b[1;33m]\u001b[0m\u001b[1;33m[\u001b[0m\u001b[0mj\u001b[0m\u001b[1;33m]\u001b[0m \u001b[1;33m*\u001b[0m \u001b[0mprop\u001b[0m\u001b[1;33m[\u001b[0m\u001b[0mi\u001b[0m\u001b[1;33m]\u001b[0m\u001b[1;33m[\u001b[0m\u001b[0mj\u001b[0m\u001b[1;33m]\u001b[0m\u001b[1;33m\u001b[0m\u001b[1;33m\u001b[0m\u001b[0m\n\u001b[0m\u001b[0;32m     30\u001b[0m                     \u001b[0madd\u001b[0m\u001b[1;33m[\u001b[0m\u001b[0mi\u001b[0m\u001b[1;33m]\u001b[0m\u001b[1;33m[\u001b[0m\u001b[0mj\u001b[0m \u001b[1;33m+\u001b[0m \u001b[1;36m1\u001b[0m\u001b[1;33m]\u001b[0m \u001b[1;33m=\u001b[0m \u001b[0mres\u001b[0m\u001b[1;33m[\u001b[0m\u001b[0mi\u001b[0m\u001b[1;33m]\u001b[0m\u001b[1;33m[\u001b[0m\u001b[0mj\u001b[0m\u001b[1;33m]\u001b[0m\u001b[1;33m\u001b[0m\u001b[1;33m\u001b[0m\u001b[0m\n\u001b[0;32m     31\u001b[0m \u001b[1;33m\u001b[0m\u001b[0m\n",
      "\u001b[1;31mIndexError\u001b[0m: index 2 is out of bounds for axis 0 with size 2"
     ]
    }
   ],
   "source": [
    "ARRAY_A_W = 5 # Кол-во столбцов\n",
    "ARRAY_A_L = 2 # Кол-во строк\n",
    "\n",
    "ARRAY_B_W = 2 # Кол-во столбцов\n",
    "ARRAY_B_L = 5 # Кол-во строк\n",
    "\n",
    "A = np.array([\n",
    "    [1, 2],\n",
    "    [3, 4],\n",
    "    [5, 6],\n",
    "    [7, 8],\n",
    "    [9, 10]])\n",
    "B = np.array([\n",
    "    [1, 2, 3, 4, 5],\n",
    "    [6, 7, 8, 9, 10]])\n",
    "if (ARRAY_A_L == ARRAY_B_W):\n",
    "    C, add = calc_array(A, B, ARRAY_W, ARRAY_L)\n",
    "#print(C)\n",
    "#print(\"-----------\")\n",
    "#print(add)"
   ]
  },
  {
   "cell_type": "code",
   "execution_count": null,
   "metadata": {},
   "outputs": [],
   "source": []
  }
 ]
}