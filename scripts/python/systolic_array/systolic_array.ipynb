{
 "metadata": {
  "language_info": {
   "codemirror_mode": {
    "name": "ipython",
    "version": 3
   },
   "file_extension": ".py",
   "mimetype": "text/x-python",
   "name": "python",
   "nbconvert_exporter": "python",
   "pygments_lexer": "ipython3",
   "version": "3.9.5"
  },
  "orig_nbformat": 2,
  "kernelspec": {
   "name": "python395jvsc74a57bd086eb6434b80d835c4d89806dbbf47874a9bd9388e626d54fbd28916269279b03",
   "display_name": "Python 3.9.5 64-bit"
  },
  "metadata": {
   "interpreter": {
    "hash": "86eb6434b80d835c4d89806dbbf47874a9bd9388e626d54fbd28916269279b03"
   }
  }
 },
 "nbformat": 4,
 "nbformat_minor": 2,
 "cells": [
  {
   "source": [
    "# Систолические массивы"
   ],
   "cell_type": "markdown",
   "metadata": {}
  },
  {
   "source": [
    "![title](simple_array.png)"
   ],
   "cell_type": "markdown",
   "metadata": {}
  },
  {
   "cell_type": "code",
   "execution_count": 83,
   "metadata": {},
   "outputs": [],
   "source": [
    "import numpy as np\n",
    "\n",
    "def calc_array(A, B, ARRAY_W, ARRAY_L):\n",
    "    res = np.zeros((ARRAY_W, ARRAY_W), dtype = np.int16)\n",
    "    add = np.zeros((ARRAY_W, ARRAY_W + 2), dtype = np.int16)\n",
    "    prop = np.zeros((ARRAY_W+2, ARRAY_L), dtype = np.int16)\n",
    "    inp = np.zeros((ARRAY_W, ARRAY_W+2), dtype = np.int16)\n",
    "    FETCH_LENGTH = ARRAY_L + ARRAY_W\n",
    "    #A = np.transpose(A)\n",
    "    \n",
    "    param_data = B\n",
    "    for k in range(FETCH_LENGTH):\n",
    "        if (k > 0):\n",
    "            u = min(ARRAY_W, k)\n",
    "            for i in range(u):\n",
    "                inp[i][u-i] = inp[i][u-i - 1]\n",
    "        \n",
    "        for i in range(ARRAY_W):\n",
    "            if ((k - ARRAY_L <= i) and (i <= min(k, ARRAY_W-1)) and (k-i < ARRAY_L)):\n",
    "                inp[i][0] = A[i][k-i]\n",
    "            else:\n",
    "                inp[i][0] = 0\n",
    "#\n",
    "        print(inp)\n",
    "        print(\"-----\")\n",
    "\n",
    "        for i in range(ARRAY_W):\n",
    "            for j in range(ARRAY_L):                \n",
    "                if (i + j <= k):\n",
    "                    res[i][j] = add[i][j] + B[i][j] * prop[i][j]\n",
    "                    add[i][j + 1] = res[i][j]\n",
    "        \n",
    "    return res, add"
   ]
  },
  {
   "cell_type": "code",
   "execution_count": 84,
   "metadata": {},
   "outputs": [
    {
     "output_type": "stream",
     "name": "stdout",
     "text": [
      "[[1 0 0 0 0 0 0]\n [0 0 0 0 0 0 0]\n [0 0 0 0 0 0 0]\n [0 0 0 0 0 0 0]\n [0 0 0 0 0 0 0]]\n-----\n[[2 1 0 0 0 0 0]\n [3 0 0 0 0 0 0]\n [0 0 0 0 0 0 0]\n [0 0 0 0 0 0 0]\n [0 0 0 0 0 0 0]]\n-----\n[[0 1 1 0 0 0 0]\n [4 3 0 0 0 0 0]\n [5 0 0 0 0 0 0]\n [0 0 0 0 0 0 0]\n [0 0 0 0 0 0 0]]\n-----\n[[0 1 1 1 0 0 0]\n [0 3 3 0 0 0 0]\n [6 5 0 0 0 0 0]\n [7 0 0 0 0 0 0]\n [0 0 0 0 0 0 0]]\n-----\n[[0 1 1 1 1 0 0]\n [0 3 3 3 0 0 0]\n [0 5 5 0 0 0 0]\n [8 7 0 0 0 0 0]\n [9 0 0 0 0 0 0]]\n-----\n[[ 0  1  1  1  1  1  0]\n [ 0  3  3  3  3  0  0]\n [ 0  5  5  5  0  0  0]\n [ 0  7  7  0  0  0  0]\n [10  9  0  0  0  0  0]]\n-----\n[[ 0  1  1  1  1  1  0]\n [ 0  3  3  3  3  0  0]\n [ 0  5  5  5  0  0  0]\n [ 0  7  7  0  0  0  0]\n [ 0 10  0  0  0  0  0]]\n-----\n"
     ]
    }
   ],
   "source": [
    "ARRAY_W = 5 # Кол-во строк\n",
    "ARRAY_L = 2 # Кол-во столбцов\n",
    "\n",
    "A = B = np.array([\n",
    "    [1, 2],\n",
    "    [3, 4],\n",
    "    [5, 6],\n",
    "    [7, 8],\n",
    "    [9, 10]])\n",
    "C, add = calc_array(A, B, ARRAY_W, ARRAY_L)\n",
    "#print(C)\n",
    "#print(\"-----------\")\n",
    "#print(add)"
   ]
  },
  {
   "cell_type": "code",
   "execution_count": null,
   "metadata": {},
   "outputs": [],
   "source": []
  }
 ]
}