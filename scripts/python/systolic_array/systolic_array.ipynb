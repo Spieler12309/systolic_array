{
 "metadata": {
  "language_info": {
   "codemirror_mode": {
    "name": "ipython",
    "version": 3
   },
   "file_extension": ".py",
   "mimetype": "text/x-python",
   "name": "python",
   "nbconvert_exporter": "python",
   "pygments_lexer": "ipython3",
   "version": "3.9.5"
  },
  "orig_nbformat": 2,
  "kernelspec": {
   "name": "python395jvsc74a57bd086eb6434b80d835c4d89806dbbf47874a9bd9388e626d54fbd28916269279b03",
   "display_name": "Python 3.9.5 64-bit"
  },
  "metadata": {
   "interpreter": {
    "hash": "86eb6434b80d835c4d89806dbbf47874a9bd9388e626d54fbd28916269279b03"
   }
  }
 },
 "nbformat": 4,
 "nbformat_minor": 2,
 "cells": [
  {
   "source": [
    "# Систолические массивы"
   ],
   "cell_type": "markdown",
   "metadata": {}
  },
  {
   "source": [
    "![title](simple_array.png)"
   ],
   "cell_type": "markdown",
   "metadata": {}
  },
  {
   "cell_type": "code",
   "execution_count": 10,
   "metadata": {},
   "outputs": [],
   "source": [
    "import numpy as np\n",
    "\n",
    "def calc_array(A, B, ARRAY_W, ARRAY_L):\n",
    "    res = np.zeros((ARRAY_W, ARRAY_W), dtype = np.int16)\n",
    "    add = np.zeros((ARRAY_W + 1, ARRAY_W), dtype = np.int16)\n",
    "    FETCH_LENGTH = ARRAY_L+ARRAY_W*2+1\n",
    "    A = np.transpose(A)\n",
    "    for i in range(FETCH_LENGTH):\n",
    "        for j in range(min(cnt, ARRAY_L)):\n",
    "            res[j, ARRAY_L - j] = 0 #TODO\n",
    "    return res"
   ]
  },
  {
   "cell_type": "code",
   "execution_count": 11,
   "metadata": {},
   "outputs": [
    {
     "output_type": "stream",
     "name": "stdout",
     "text": [
      "[[0. 0. 0. 0. 0.]\n [0. 0. 0. 0. 0.]\n [0. 0. 0. 0. 0.]\n [0. 0. 0. 0. 0.]\n [0. 0. 0. 0. 0.]]\n"
     ]
    }
   ],
   "source": [
    "ARRAY_W = 5 # Кол-во строк\n",
    "ARRAY_L = 2 # Кол-во столбцов\n",
    "\n",
    "A = B = np.array([\n",
    "    [1, 2],\n",
    "    [3, 4],\n",
    "    [5, 6],\n",
    "    [7, 8],\n",
    "    [9, 10]])\n",
    "C = calc_array(A, B, ARRAY_W, ARRAY_L)\n",
    "print(C)"
   ]
  },
  {
   "cell_type": "code",
   "execution_count": null,
   "metadata": {},
   "outputs": [],
   "source": []
  }
 ]
}