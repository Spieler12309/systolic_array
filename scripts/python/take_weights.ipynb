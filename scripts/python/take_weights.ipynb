{
 "metadata": {
  "language_info": {
   "codemirror_mode": {
    "name": "ipython",
    "version": 3
   },
   "file_extension": ".py",
   "mimetype": "text/x-python",
   "name": "python",
   "nbconvert_exporter": "python",
   "pygments_lexer": "ipython3",
   "version": "3.9.5"
  },
  "orig_nbformat": 2,
  "kernelspec": {
   "name": "python395jvsc74a57bd086eb6434b80d835c4d89806dbbf47874a9bd9388e626d54fbd28916269279b03",
   "display_name": "Python 3.9.5 64-bit"
  },
  "metadata": {
   "interpreter": {
    "hash": "86eb6434b80d835c4d89806dbbf47874a9bd9388e626d54fbd28916269279b03"
   }
  }
 },
 "nbformat": 4,
 "nbformat_minor": 2,
 "cells": [
  {
   "cell_type": "code",
   "execution_count": 23,
   "metadata": {},
   "outputs": [],
   "source": [
    "import onnx\n",
    "import numpy as np\n",
    "from onnx import numpy_helper\n",
    "from tabulate import tabulate\n",
    "import os\n",
    "import math\n",
    "import struct"
   ]
  },
  {
   "source": [
    "# Скрипты"
   ],
   "cell_type": "markdown",
   "metadata": {}
  },
  {
   "cell_type": "code",
   "execution_count": 24,
   "metadata": {},
   "outputs": [],
   "source": [
    "def toString(indata, separate = \", \"):\n",
    "  '''\n",
    "  Перевод спсика, кортежа или словаря в строку.\n",
    "  :param indata: Данные для трансформации\n",
    "  '''\n",
    "  if isinstance(indata, (list, tuple)):\n",
    "    return separate.join([toString(value).rstrip(\"\\n\") for value in indata])\n",
    "  if isinstance(indata, dict):\n",
    "    st = \"\"\n",
    "    for key, value in indata.items():\n",
    "      st += \"{}: {}\\n\".format(key, value)\n",
    "    return st\n",
    "  return str(indata)"
   ]
  },
  {
   "cell_type": "code",
   "execution_count": 25,
   "metadata": {},
   "outputs": [],
   "source": [
    "def toHex(value, tp = 'int', bits = 8):\n",
    "    s = ''\n",
    "    if (tp == 'int'):\n",
    "        bits = math.ceil(bits / 4.0)\n",
    "        mx = int('0x' + 'f' * bits, 16)\n",
    "        s = hex(value & mx)[2:]\n",
    "        if (len(s) < bits):\n",
    "            s = '0' * (bits - len(s)) + s\n",
    "    if (tp == 'float'):\n",
    "        if (bits == 64):\n",
    "            s = hex(struct.unpack('<Q', struct.pack('<d', value))[0])[2:]\n",
    "        else:\n",
    "            s = hex(struct.unpack('<I', struct.pack('<f', value))[0])[2:]\n",
    "\n",
    "        bits = math.ceil(bits / 4.0)\n",
    "        if (len(s) < bits):\n",
    "            s = '0' * (bits - len(s)) + s\n",
    "    return s.upper()"
   ]
  },
  {
   "source": [
    "# Имена весов"
   ],
   "cell_type": "markdown",
   "metadata": {}
  },
  {
   "cell_type": "code",
   "execution_count": 26,
   "metadata": {},
   "outputs": [],
   "source": [
    "def getWeightsName(model):\n",
    "    '''\n",
    "    Возвращает имена весов\n",
    "    :param model: открытая onnx модель\n",
    "    :return: список имен слоев\n",
    "    '''\n",
    "    layers = []\n",
    "    weights = model.graph.initializer\n",
    "    for i in range(len(weights)):\n",
    "        layers.append(weights[i].name)\n",
    "    return layers"
   ]
  },
  {
   "source": [
    "# Имена слоев"
   ],
   "cell_type": "markdown",
   "metadata": {}
  },
  {
   "cell_type": "code",
   "execution_count": 27,
   "metadata": {},
   "outputs": [],
   "source": [
    "def getLayersName(model):\n",
    "    '''\n",
    "    Возвращает имена слои нейронной сети. Работает не для каждой модели!!!\n",
    "    :param model: открытая onnx модель\n",
    "    :return: список имен слоев модели в порядке продвижения данных\n",
    "    '''\n",
    "    layers = []\n",
    "    nodes = model.graph.node\n",
    "    for i in range(len(nodes)):\n",
    "        layers.append(nodes[i].name)\n",
    "    return layers"
   ]
  },
  {
   "source": [
    "# Получение весов"
   ],
   "cell_type": "markdown",
   "metadata": {}
  },
  {
   "cell_type": "code",
   "execution_count": 28,
   "metadata": {},
   "outputs": [],
   "source": [
    "def getWeightValue(model, weightName):\n",
    "    weights = model.graph.initializer\n",
    "    for i in range(len(weights)):\n",
    "        if (weights[i].name == weightName):\n",
    "            return numpy_helper.to_array(weights[i])\n",
    "    return None"
   ]
  },
  {
   "source": [
    "# Вывод схемы нейронной сети"
   ],
   "cell_type": "markdown",
   "metadata": {}
  },
  {
   "cell_type": "code",
   "execution_count": 29,
   "metadata": {},
   "outputs": [],
   "source": [
    "def printScheme(model):\n",
    "    '''\n",
    "    Печатает схему работы нейронной сети. Работает не для каждой модели!!!\n",
    "    :param model: открытая onnx модель\n",
    "    :return:\n",
    "    '''\n",
    "    nodes = model.graph.node\n",
    "    first = model.graph.input\n",
    "    last = model.graph.output\n",
    "    print('Model info:')\n",
    "    for i in range(len(first)):\n",
    "        print('\\t{:>10s}_{}:'.format('Input', i))\n",
    "        print('\\t\\t{:>10s}: {:<50s}'.format('name', toString(first[i].name)))\n",
    "        print('\\t\\t{:>10s}: {:<50s}'.format('shape', '[' + toString(\n",
    "            [str(v).split(': ')[-1].rstrip(\"\\n\") for v in list(first[i].type.tensor_type.shape.dim)]) + ']'))\n",
    "    print('Список слоев:')\n",
    "    for i in range(len(last)):\n",
    "        print('\\t{:>10s}_{}:'.format('Output', i))\n",
    "        print('\\t\\t{:>10s}: {:<50s}'.format('name', toString(last[i].name)))\n",
    "        print('\\t\\t{:>10s}: {:<50s}'.format('shape', '[' + toString(\n",
    "            [str(v).split(': ')[-1].rstrip(\"\\n\") for v in list(last[i].type.tensor_type.shape.dim)]) + ']'))\n",
    "\n",
    "    for i in range(len(nodes)):\n",
    "        print('{:>15}: {:^50} --> {:^50}'.format(toString(nodes[i].name), toString(list(nodes[i].input)),\n",
    "                                                 toString(list(nodes[i].output))))\n"
   ]
  },
  {
   "cell_type": "code",
   "execution_count": 30,
   "metadata": {},
   "outputs": [],
   "source": [
    "def printSchemeTable(model):\n",
    "    '''\n",
    "    Печатает схему работы нейронной сети. Работает не для каждой модели!!!\n",
    "    :param model: открытая onnx модель\n",
    "    :return:\n",
    "    '''\n",
    "    nodes = model.graph.node\n",
    "\n",
    "    column_list = [\"Name\", \"Inputs\", \"Outputs\"]\n",
    "    first = model.graph.input\n",
    "    last = model.graph.output\n",
    "    print('Model info:')\n",
    "    for i in range(len(first)):\n",
    "        print('\\t{:>10s}_{}:'.format('Input', i))\n",
    "        print('\\t\\t{:>10s}: {:<50s}'.format('name', toString(first[i].name)))\n",
    "        print('\\t\\t{:>10s}: {:<50s}'.format('shape', '[' + toString([str(v).split(': ')[-1].rstrip(\"\\n\") for v in list(first[i].type.tensor_type.shape.dim)]) + ']'))\n",
    "\n",
    "    for i in range(len(last)):\n",
    "        print('\\t{:>10s}_{}:'.format('Output', i))\n",
    "        print('\\t\\t{:>10s}: {:<50s}'.format('name', toString(last[i].name)))\n",
    "        print('\\t\\t{:>10s}: {:<50s}'.format('shape', '[' + toString([str(v).split(': ')[-1].rstrip(\"\\n\") for v in list(last[i].type.tensor_type.shape.dim)]) + ']'))\n",
    "\n",
    "    print('Список слоев:')\n",
    "    value_list = []\n",
    "    for i in range(len(nodes)):\n",
    "        value_list.append([toString(nodes[i].name), toString(list(nodes[i].input)), toString(list(nodes[i].output))])\n",
    "\n",
    "    print(tabulate(value_list, column_list, tablefmt=\"grid\"))"
   ]
  },
  {
   "source": [
    "# Вывод информации о весах"
   ],
   "cell_type": "markdown",
   "metadata": {}
  },
  {
   "cell_type": "code",
   "execution_count": 31,
   "metadata": {},
   "outputs": [],
   "source": [
    "def printWieghtsInfo(model):\n",
    "    '''\n",
    "    Печатает информацию о весах.\n",
    "    :param model: открытая onnx модель\n",
    "    :return:\n",
    "    '''\n",
    "    weights = model.graph.initializer\n",
    "    column_list = [\"Name\", 'Shape']\n",
    "    print('Список весов:')\n",
    "    value_list = []\n",
    "    for i in range(len(weights)):\n",
    "        value_list.append([toString(weights[i].name), toString(weights[i].dims)])\n",
    "\n",
    "    print(tabulate(value_list, column_list, tablefmt=\"grid\"))"
   ]
  },
  {
   "source": [
    "# Сохоранение всех весов модели"
   ],
   "cell_type": "markdown",
   "metadata": {}
  },
  {
   "cell_type": "code",
   "execution_count": 32,
   "metadata": {},
   "outputs": [],
   "source": [
    "def saveAllWeights(model, folder):\n",
    "    folder = folder + '_raw'\n",
    "    if (not os.path.exists(folder)):\n",
    "        os.mkdir(folder)\n",
    "\n",
    "    weights = model.graph.initializer\n",
    "    for i in range(len(weights)):\n",
    "        f = open(folder + '\\\\' + toString(weights[i].name) + '.txt', 'w')\n",
    "        f.write(toString(numpy_helper.to_array(weights[i])))\n",
    "        f.close()"
   ]
  },
  {
   "cell_type": "code",
   "execution_count": 33,
   "metadata": {},
   "outputs": [],
   "source": [
    "def saveAllWeightsHex(model, folder, weightsType = 'int8', scale = 1):\n",
    "    weights = model.graph.initializer\n",
    "\n",
    "    folder = folder + '_hex'\n",
    "    if (not os.path.exists(folder)):\n",
    "        os.mkdir(folder)\n",
    "\n",
    "    tp = ''.join(c for c in weightsType if not c.isdigit())\n",
    "    bits = int(''.join(c for c in weightsType if c.isdigit()))\n",
    "    for i in range(len(weights)):\n",
    "        weight = numpy_helper.to_array(weights[i])\n",
    "        shapeLen = len(weight.shape)\n",
    "        if (shapeLen <= 2):\n",
    "            fileName = toString(weights[i].name) + '.hex'\n",
    "            for c in '\\\\/:*?\\\"<>|':\n",
    "                fileName = fileName.replace(c, '.')\n",
    "            f = open(folder + '\\\\' + fileName, 'w')\n",
    "\n",
    "            w1 = weight\n",
    "            ws = w1.shape\n",
    "            w2 = w1.reshape(np.array(ws).prod())\n",
    "            w2 = np.array([toHex(int(v * scale), tp, bits) for v in w2])\n",
    "            w3 = w2.reshape(ws)\n",
    "            for q in w3:\n",
    "                if (shapeLen == 1):\n",
    "                    f.write(q + ' ')\n",
    "                else:\n",
    "                    for w in q:\n",
    "                        f.write(w + ' ')\n",
    "                    f.write('\\n')\n",
    "\n",
    "            f.close()"
   ]
  },
  {
   "cell_type": "code",
   "execution_count": 34,
   "metadata": {},
   "outputs": [],
   "source": [
    "# Задание настроек"
   ]
  },
  {
   "cell_type": "code",
   "execution_count": 35,
   "metadata": {},
   "outputs": [],
   "source": [
    "folder = 'take_layers'\n",
    "modelName = 'test2.onnx'"
   ]
  },
  {
   "cell_type": "code",
   "execution_count": 36,
   "metadata": {},
   "outputs": [],
   "source": [
    "model = onnx.load(folder + '\\\\' + modelName)"
   ]
  },
  {
   "cell_type": "code",
   "execution_count": 37,
   "metadata": {},
   "outputs": [
    {
     "output_type": "stream",
     "name": "stdout",
     "text": [
      "Список весов:\n+-------------------+-------------+\n| Name              | Shape       |\n+===================+=============+\n| dense_12/kernel:0 | [1024, 784] |\n+-------------------+-------------+\n| dense_12/bias:0   | [784]       |\n+-------------------+-------------+\n| dense_11/kernel:0 | [512, 1024] |\n+-------------------+-------------+\n| dense_11/bias:0   | [1024]      |\n+-------------------+-------------+\n| dense_10/kernel:0 | [256, 512]  |\n+-------------------+-------------+\n| dense_10/bias:0   | [512]       |\n+-------------------+-------------+\n| dense_9/kernel:0  | [100, 256]  |\n+-------------------+-------------+\n| dense_9/bias:0    | [256]       |\n+-------------------+-------------+\n"
     ]
    }
   ],
   "source": [
    "printWieghtsInfo(model)"
   ]
  },
  {
   "cell_type": "code",
   "execution_count": 38,
   "metadata": {},
   "outputs": [],
   "source": [
    "saveAllWeightsHex(model=model,\n",
    "                  folder=folder + '\\\\weights_' + '.'.join(modelName.split('.')[:-1]),\n",
    "                  weightsType='float32',\n",
    "                  scale=100)"
   ]
  },
  {
   "cell_type": "code",
   "execution_count": null,
   "metadata": {},
   "outputs": [],
   "source": []
  }
 ]
}